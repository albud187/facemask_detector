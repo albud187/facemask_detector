{
 "cells": [
  {
   "cell_type": "code",
   "execution_count": 1,
   "metadata": {},
   "outputs": [],
   "source": [
    "import os\n",
    "import cv2\n",
    "from PIL import Image\n",
    "from PIL import ImageFilter\n",
    "from PIL import ImageEnhance\n",
    "import matplotlib.pyplot as plt\n",
    "import numpy as np\n",
    "#test image\n",
    "image = 'opencv_frame_16.jpg'\n",
    "path = image"
   ]
  },
  {
   "cell_type": "code",
   "execution_count": 2,
   "metadata": {},
   "outputs": [],
   "source": [
    "#single transformations\n",
    "\n",
    "def blur(filepath, factor):\n",
    "    org_img = Image.open(filepath)\n",
    "    blur_img = org_img.filter(ImageFilter.GaussianBlur(factor))\n",
    "    blur_img.save('aug_' + 'blur_' + str(factor) +'_' + filepath)\n",
    "    return('aug_' + 'blur_' + str(factor) +'_' + filepath)\n",
    "\n",
    "def contrast(filepath, factor):\n",
    "    org_img = Image.open(filepath)\n",
    "    enhancer = ImageEnhance.Contrast(org_img)\n",
    "    output = enhancer.enhance(factor)\n",
    "    output.save('aug_' + 'cont_' + str(factor) + '_' + filepath)\n",
    "    return('aug_' + 'cont_' + str(factor) + '_' + filepath)\n",
    "\n",
    "    \n",
    "def rotate(filepath, angle):\n",
    "    org_img = Image.open(filepath)\n",
    "    output = org_img.rotate(angle)\n",
    "    output.save('aug_' + 'rot_' + str(angle) + '_' + filepath)\n",
    "    return('aug_' + 'rot_' + str(angle) + '_' + filepath)\n",
    "\n",
    "def brightness(filepath, factor):\n",
    "    org_img = Image.open(filepath)\n",
    "    bright_img = ImageEnhance.Brightness(org_img)\n",
    "    output = bright_img.enhance(factor)\n",
    "    output.save('aug_' + 'bright_' + str(factor) + '_' + filepath)\n",
    "    return('aug_' + 'bright_' + str(factor) + '_' + filepath)\n",
    "    "
   ]
  },
  {
   "cell_type": "code",
   "execution_count": 3,
   "metadata": {},
   "outputs": [],
   "source": [
    "#compound transformations\n",
    "\n",
    "def daytime(filepath, cont_factor, bright_factor):\n",
    "    org_img = Image.open(filepath)\n",
    "    enhancer = ImageEnhance.Contrast(org_img)\n",
    "    cont_img = enhancer.enhance(cont_factor)\n",
    "    bright_img = ImageEnhance.Brightness(cont_img)\n",
    "    output = bright_img.enhance(bright_factor)\n",
    "    output.save('aug_' + 'cont_' + str(cont_factor) + '_' + 'bright_' + str(bright_factor) + '_' + filepath)\n",
    "    return('aug_' + 'cont_' + str(cont_factor) + '_' + 'bright_' + str(bright_factor) + '_' + filepath)\n",
    "    "
   ]
  },
  {
   "cell_type": "code",
   "execution_count": 5,
   "metadata": {},
   "outputs": [],
   "source": [
    "for file in os.listdir(os.getcwd()):\n",
    "    if file not in ['.ipynb_checkpoints', '_augmenter.ipynb', 'aug']:\n",
    "        #enter image transformation functions here\n"
   ]
  },
  {
   "cell_type": "code",
   "execution_count": null,
   "metadata": {},
   "outputs": [],
   "source": [
    "        blur(file,1.75)\n",
    "        daytime(file, 1.5, 1.15)\n",
    "        rotate(file, 12,)\n",
    "        rotate(file,-12)"
   ]
  }
 ],
 "metadata": {
  "kernelspec": {
   "display_name": "Python 3",
   "language": "python",
   "name": "python3"
  },
  "language_info": {
   "codemirror_mode": {
    "name": "ipython",
    "version": 3
   },
   "file_extension": ".py",
   "mimetype": "text/x-python",
   "name": "python",
   "nbconvert_exporter": "python",
   "pygments_lexer": "ipython3",
   "version": "3.6.8"
  }
 },
 "nbformat": 4,
 "nbformat_minor": 4
}
